{
 "cells": [
  {
   "cell_type": "markdown",
   "metadata": {},
   "source": [
    "**Background**\n",
    "\n",
    "We are a small startup focusing mainly on providing machine learning solutions in the European banking market. We work on a variety of problems including fraud detection, sentiment classification and customer intention prediction and classification.\n",
    "\n",
    "We are interested in developing a robust machine learning system that leverages information coming from call center data.\n",
    "\n",
    "Ultimately, we are looking for ways to improve the success rate for calls made to customers for any product that our clients offer. Towards this goal we are working on designing an ever evolving machine learning product that offers high success outcomes while offering interpretability for our clients to make informed decisions."
   ]
  },
  {
   "cell_type": "markdown",
   "metadata": {},
   "source": [
    "\n",
    "**Data Description:**\n",
    "\n",
    "The data comes from direct marketing efforts of a European banking institution. The marketing campaign involves making a phone call to a customer, often multiple times to ensure a product subscription, in this case a term deposit. Term deposits are usually short-term deposits with maturities ranging from one month to a few years. The customer must understand when buying a term deposit that they can withdraw their funds only after the term ends. All customer information that might reveal personal information is removed due to privacy concerns."
   ]
  },
  {
   "cell_type": "markdown",
   "metadata": {},
   "source": [
    "**Attributes:**\n",
    "\n",
    "* age : age of customer (numeric)\n",
    "* job : type of job (categorical)\n",
    "* marital : marital status (categorical)\n",
    "* education (categorical)\n",
    "* default: has credit in default? (binary)\n",
    "* balance: average yearly balance, in euros (numeric)\n",
    "* housing: has a housing loan? (binary)\n",
    "* loan: has personal loan? (binary)\n",
    "* contact: contact communication type (categorical)\n",
    "* day: last contact day of the month (numeric)\n",
    "* month: last contact month of year (categorical)\n",
    "* duration: last contact duration, in seconds (numeric)\n",
    "* campaign: number of contacts performed during this campaign and for this client (numeric, includes last contact)\n",
    "\n",
    "Output (desired target):\n",
    "\n",
    "* y - has the client subscribed to a term deposit? (binary)"
   ]
  },
  {
   "cell_type": "markdown",
   "metadata": {},
   "source": [
    "**Goal(s):**\n",
    "\n",
    "Predict if the customer will subscribe (yes/no) to a term deposit (variable y)"
   ]
  },
  {
   "cell_type": "markdown",
   "metadata": {},
   "source": []
  },
  {
   "cell_type": "markdown",
   "metadata": {},
   "source": [
    "**Success Metric(s):**\n",
    "\n",
    "Hit %81 or above accuracy by evaluating with 5-fold cross validation and reporting the average performance score."
   ]
  },
  {
   "cell_type": "markdown",
   "metadata": {},
   "source": [
    "**Bonus(es):**\n",
    "\n",
    "We are also interested in finding customers who are more likely to buy the investment product. Determine the segment(s) of customers our client should prioritize.\n",
    "What makes the customers buy? Tell us which feature we should be focusing more on."
   ]
  },
  {
   "cell_type": "markdown",
   "metadata": {},
   "source": [
    "**Data Loading and Exploration:**"
   ]
  },
  {
   "cell_type": "code",
   "execution_count": 1,
   "metadata": {},
   "outputs": [],
   "source": [
    "import pandas as pd\n",
    "import numpy as np\n",
    "import matplotlib.pyplot as plt\n",
    "import seaborn as sns\n",
    "from sklearn.preprocessing import OneHotEncoder, LabelEncoder\n",
    "from sklearn.metrics import accuracy_score, confusion_matrix, classification_report\n",
    "from sklearn import model_selection, feature_selection, metrics\n",
    "from xgboost import XGBClassifier\n",
    "from sklearn.linear_model import LogisticRegression\n",
    "from sklearn.ensemble import RandomForestClassifier\n",
    "from sklearn.tree import DecisionTreeClassifier\n",
    "from sklearn.model_selection import StratifiedKFold, KFold\n",
    "from sklearn.neighbors import KNeighborsClassifier\n",
    "from sklearn.discriminant_analysis import LinearDiscriminantAnalysis\n",
    "from sklearn.naive_bayes import GaussianNB\n",
    "from sklearn.svm import SVC\n",
    "from sklearn.model_selection import train_test_split, cross_val_score\n",
    "from sklearn.metrics import roc_curve\n",
    "from sklearn.metrics import roc_auc_score"
   ]
  },
  {
   "cell_type": "code",
   "execution_count": 2,
   "metadata": {},
   "outputs": [
    {
     "data": {
      "text/html": [
       "<div>\n",
       "<style scoped>\n",
       "    .dataframe tbody tr th:only-of-type {\n",
       "        vertical-align: middle;\n",
       "    }\n",
       "\n",
       "    .dataframe tbody tr th {\n",
       "        vertical-align: top;\n",
       "    }\n",
       "\n",
       "    .dataframe thead th {\n",
       "        text-align: right;\n",
       "    }\n",
       "</style>\n",
       "<table border=\"1\" class=\"dataframe\">\n",
       "  <thead>\n",
       "    <tr style=\"text-align: right;\">\n",
       "      <th></th>\n",
       "      <th>age</th>\n",
       "      <th>job</th>\n",
       "      <th>marital</th>\n",
       "      <th>education</th>\n",
       "      <th>default</th>\n",
       "      <th>balance</th>\n",
       "      <th>housing</th>\n",
       "      <th>loan</th>\n",
       "      <th>contact</th>\n",
       "      <th>day</th>\n",
       "      <th>month</th>\n",
       "      <th>duration</th>\n",
       "      <th>campaign</th>\n",
       "      <th>y</th>\n",
       "    </tr>\n",
       "  </thead>\n",
       "  <tbody>\n",
       "    <tr>\n",
       "      <th>0</th>\n",
       "      <td>58</td>\n",
       "      <td>management</td>\n",
       "      <td>married</td>\n",
       "      <td>tertiary</td>\n",
       "      <td>no</td>\n",
       "      <td>2143</td>\n",
       "      <td>yes</td>\n",
       "      <td>no</td>\n",
       "      <td>unknown</td>\n",
       "      <td>5</td>\n",
       "      <td>may</td>\n",
       "      <td>261</td>\n",
       "      <td>1</td>\n",
       "      <td>no</td>\n",
       "    </tr>\n",
       "    <tr>\n",
       "      <th>1</th>\n",
       "      <td>44</td>\n",
       "      <td>technician</td>\n",
       "      <td>single</td>\n",
       "      <td>secondary</td>\n",
       "      <td>no</td>\n",
       "      <td>29</td>\n",
       "      <td>yes</td>\n",
       "      <td>no</td>\n",
       "      <td>unknown</td>\n",
       "      <td>5</td>\n",
       "      <td>may</td>\n",
       "      <td>151</td>\n",
       "      <td>1</td>\n",
       "      <td>no</td>\n",
       "    </tr>\n",
       "    <tr>\n",
       "      <th>2</th>\n",
       "      <td>33</td>\n",
       "      <td>entrepreneur</td>\n",
       "      <td>married</td>\n",
       "      <td>secondary</td>\n",
       "      <td>no</td>\n",
       "      <td>2</td>\n",
       "      <td>yes</td>\n",
       "      <td>yes</td>\n",
       "      <td>unknown</td>\n",
       "      <td>5</td>\n",
       "      <td>may</td>\n",
       "      <td>76</td>\n",
       "      <td>1</td>\n",
       "      <td>no</td>\n",
       "    </tr>\n",
       "    <tr>\n",
       "      <th>3</th>\n",
       "      <td>47</td>\n",
       "      <td>blue-collar</td>\n",
       "      <td>married</td>\n",
       "      <td>unknown</td>\n",
       "      <td>no</td>\n",
       "      <td>1506</td>\n",
       "      <td>yes</td>\n",
       "      <td>no</td>\n",
       "      <td>unknown</td>\n",
       "      <td>5</td>\n",
       "      <td>may</td>\n",
       "      <td>92</td>\n",
       "      <td>1</td>\n",
       "      <td>no</td>\n",
       "    </tr>\n",
       "    <tr>\n",
       "      <th>4</th>\n",
       "      <td>33</td>\n",
       "      <td>unknown</td>\n",
       "      <td>single</td>\n",
       "      <td>unknown</td>\n",
       "      <td>no</td>\n",
       "      <td>1</td>\n",
       "      <td>no</td>\n",
       "      <td>no</td>\n",
       "      <td>unknown</td>\n",
       "      <td>5</td>\n",
       "      <td>may</td>\n",
       "      <td>198</td>\n",
       "      <td>1</td>\n",
       "      <td>no</td>\n",
       "    </tr>\n",
       "  </tbody>\n",
       "</table>\n",
       "</div>"
      ],
      "text/plain": [
       "   age           job  marital  education default  balance housing loan  \\\n",
       "0   58    management  married   tertiary      no     2143     yes   no   \n",
       "1   44    technician   single  secondary      no       29     yes   no   \n",
       "2   33  entrepreneur  married  secondary      no        2     yes  yes   \n",
       "3   47   blue-collar  married    unknown      no     1506     yes   no   \n",
       "4   33       unknown   single    unknown      no        1      no   no   \n",
       "\n",
       "   contact  day month  duration  campaign   y  \n",
       "0  unknown    5   may       261         1  no  \n",
       "1  unknown    5   may       151         1  no  \n",
       "2  unknown    5   may        76         1  no  \n",
       "3  unknown    5   may        92         1  no  \n",
       "4  unknown    5   may       198         1  no  "
      ]
     },
     "execution_count": 2,
     "metadata": {},
     "output_type": "execute_result"
    }
   ],
   "source": [
    "# load the dataset\n",
    "df = pd.read_csv('term-deposit-marketing-2020.csv')\n",
    "df.head()"
   ]
  },
  {
   "cell_type": "code",
   "execution_count": 3,
   "metadata": {},
   "outputs": [
    {
     "name": "stdout",
     "output_type": "stream",
     "text": [
      "<class 'pandas.core.frame.DataFrame'>\n",
      "RangeIndex: 40000 entries, 0 to 39999\n",
      "Data columns (total 14 columns):\n",
      " #   Column     Non-Null Count  Dtype \n",
      "---  ------     --------------  ----- \n",
      " 0   age        40000 non-null  int64 \n",
      " 1   job        40000 non-null  object\n",
      " 2   marital    40000 non-null  object\n",
      " 3   education  40000 non-null  object\n",
      " 4   default    40000 non-null  object\n",
      " 5   balance    40000 non-null  int64 \n",
      " 6   housing    40000 non-null  object\n",
      " 7   loan       40000 non-null  object\n",
      " 8   contact    40000 non-null  object\n",
      " 9   day        40000 non-null  int64 \n",
      " 10  month      40000 non-null  object\n",
      " 11  duration   40000 non-null  int64 \n",
      " 12  campaign   40000 non-null  int64 \n",
      " 13  y          40000 non-null  object\n",
      "dtypes: int64(5), object(9)\n",
      "memory usage: 4.3+ MB\n"
     ]
    }
   ],
   "source": [
    "df.info()"
   ]
  },
  {
   "cell_type": "code",
   "execution_count": 4,
   "metadata": {},
   "outputs": [
    {
     "data": {
      "text/html": [
       "<div>\n",
       "<style scoped>\n",
       "    .dataframe tbody tr th:only-of-type {\n",
       "        vertical-align: middle;\n",
       "    }\n",
       "\n",
       "    .dataframe tbody tr th {\n",
       "        vertical-align: top;\n",
       "    }\n",
       "\n",
       "    .dataframe thead th {\n",
       "        text-align: right;\n",
       "    }\n",
       "</style>\n",
       "<table border=\"1\" class=\"dataframe\">\n",
       "  <thead>\n",
       "    <tr style=\"text-align: right;\">\n",
       "      <th></th>\n",
       "      <th>age</th>\n",
       "      <th>job</th>\n",
       "      <th>marital</th>\n",
       "      <th>education</th>\n",
       "      <th>default</th>\n",
       "      <th>balance</th>\n",
       "      <th>housing</th>\n",
       "      <th>loan</th>\n",
       "      <th>contact</th>\n",
       "      <th>day</th>\n",
       "      <th>month</th>\n",
       "      <th>duration</th>\n",
       "      <th>campaign</th>\n",
       "      <th>y</th>\n",
       "    </tr>\n",
       "  </thead>\n",
       "  <tbody>\n",
       "    <tr>\n",
       "      <th>count</th>\n",
       "      <td>40000.000000</td>\n",
       "      <td>40000</td>\n",
       "      <td>40000</td>\n",
       "      <td>40000</td>\n",
       "      <td>40000</td>\n",
       "      <td>40000.000000</td>\n",
       "      <td>40000</td>\n",
       "      <td>40000</td>\n",
       "      <td>40000</td>\n",
       "      <td>40000.000000</td>\n",
       "      <td>40000</td>\n",
       "      <td>40000.000000</td>\n",
       "      <td>40000.000000</td>\n",
       "      <td>40000</td>\n",
       "    </tr>\n",
       "    <tr>\n",
       "      <th>unique</th>\n",
       "      <td>NaN</td>\n",
       "      <td>12</td>\n",
       "      <td>3</td>\n",
       "      <td>4</td>\n",
       "      <td>2</td>\n",
       "      <td>NaN</td>\n",
       "      <td>2</td>\n",
       "      <td>2</td>\n",
       "      <td>3</td>\n",
       "      <td>NaN</td>\n",
       "      <td>11</td>\n",
       "      <td>NaN</td>\n",
       "      <td>NaN</td>\n",
       "      <td>2</td>\n",
       "    </tr>\n",
       "    <tr>\n",
       "      <th>top</th>\n",
       "      <td>NaN</td>\n",
       "      <td>blue-collar</td>\n",
       "      <td>married</td>\n",
       "      <td>secondary</td>\n",
       "      <td>no</td>\n",
       "      <td>NaN</td>\n",
       "      <td>yes</td>\n",
       "      <td>no</td>\n",
       "      <td>cellular</td>\n",
       "      <td>NaN</td>\n",
       "      <td>may</td>\n",
       "      <td>NaN</td>\n",
       "      <td>NaN</td>\n",
       "      <td>no</td>\n",
       "    </tr>\n",
       "    <tr>\n",
       "      <th>freq</th>\n",
       "      <td>NaN</td>\n",
       "      <td>9383</td>\n",
       "      <td>24386</td>\n",
       "      <td>20993</td>\n",
       "      <td>39191</td>\n",
       "      <td>NaN</td>\n",
       "      <td>24031</td>\n",
       "      <td>33070</td>\n",
       "      <td>24914</td>\n",
       "      <td>NaN</td>\n",
       "      <td>13532</td>\n",
       "      <td>NaN</td>\n",
       "      <td>NaN</td>\n",
       "      <td>37104</td>\n",
       "    </tr>\n",
       "    <tr>\n",
       "      <th>mean</th>\n",
       "      <td>40.544600</td>\n",
       "      <td>NaN</td>\n",
       "      <td>NaN</td>\n",
       "      <td>NaN</td>\n",
       "      <td>NaN</td>\n",
       "      <td>1274.277550</td>\n",
       "      <td>NaN</td>\n",
       "      <td>NaN</td>\n",
       "      <td>NaN</td>\n",
       "      <td>16.017225</td>\n",
       "      <td>NaN</td>\n",
       "      <td>254.824300</td>\n",
       "      <td>2.882175</td>\n",
       "      <td>NaN</td>\n",
       "    </tr>\n",
       "    <tr>\n",
       "      <th>std</th>\n",
       "      <td>9.641776</td>\n",
       "      <td>NaN</td>\n",
       "      <td>NaN</td>\n",
       "      <td>NaN</td>\n",
       "      <td>NaN</td>\n",
       "      <td>2903.769716</td>\n",
       "      <td>NaN</td>\n",
       "      <td>NaN</td>\n",
       "      <td>NaN</td>\n",
       "      <td>8.278127</td>\n",
       "      <td>NaN</td>\n",
       "      <td>259.366498</td>\n",
       "      <td>3.239051</td>\n",
       "      <td>NaN</td>\n",
       "    </tr>\n",
       "    <tr>\n",
       "      <th>min</th>\n",
       "      <td>19.000000</td>\n",
       "      <td>NaN</td>\n",
       "      <td>NaN</td>\n",
       "      <td>NaN</td>\n",
       "      <td>NaN</td>\n",
       "      <td>-8019.000000</td>\n",
       "      <td>NaN</td>\n",
       "      <td>NaN</td>\n",
       "      <td>NaN</td>\n",
       "      <td>1.000000</td>\n",
       "      <td>NaN</td>\n",
       "      <td>0.000000</td>\n",
       "      <td>1.000000</td>\n",
       "      <td>NaN</td>\n",
       "    </tr>\n",
       "    <tr>\n",
       "      <th>25%</th>\n",
       "      <td>33.000000</td>\n",
       "      <td>NaN</td>\n",
       "      <td>NaN</td>\n",
       "      <td>NaN</td>\n",
       "      <td>NaN</td>\n",
       "      <td>54.000000</td>\n",
       "      <td>NaN</td>\n",
       "      <td>NaN</td>\n",
       "      <td>NaN</td>\n",
       "      <td>8.000000</td>\n",
       "      <td>NaN</td>\n",
       "      <td>100.000000</td>\n",
       "      <td>1.000000</td>\n",
       "      <td>NaN</td>\n",
       "    </tr>\n",
       "    <tr>\n",
       "      <th>50%</th>\n",
       "      <td>39.000000</td>\n",
       "      <td>NaN</td>\n",
       "      <td>NaN</td>\n",
       "      <td>NaN</td>\n",
       "      <td>NaN</td>\n",
       "      <td>407.000000</td>\n",
       "      <td>NaN</td>\n",
       "      <td>NaN</td>\n",
       "      <td>NaN</td>\n",
       "      <td>17.000000</td>\n",
       "      <td>NaN</td>\n",
       "      <td>175.000000</td>\n",
       "      <td>2.000000</td>\n",
       "      <td>NaN</td>\n",
       "    </tr>\n",
       "    <tr>\n",
       "      <th>75%</th>\n",
       "      <td>48.000000</td>\n",
       "      <td>NaN</td>\n",
       "      <td>NaN</td>\n",
       "      <td>NaN</td>\n",
       "      <td>NaN</td>\n",
       "      <td>1319.000000</td>\n",
       "      <td>NaN</td>\n",
       "      <td>NaN</td>\n",
       "      <td>NaN</td>\n",
       "      <td>21.000000</td>\n",
       "      <td>NaN</td>\n",
       "      <td>313.000000</td>\n",
       "      <td>3.000000</td>\n",
       "      <td>NaN</td>\n",
       "    </tr>\n",
       "    <tr>\n",
       "      <th>max</th>\n",
       "      <td>95.000000</td>\n",
       "      <td>NaN</td>\n",
       "      <td>NaN</td>\n",
       "      <td>NaN</td>\n",
       "      <td>NaN</td>\n",
       "      <td>102127.000000</td>\n",
       "      <td>NaN</td>\n",
       "      <td>NaN</td>\n",
       "      <td>NaN</td>\n",
       "      <td>31.000000</td>\n",
       "      <td>NaN</td>\n",
       "      <td>4918.000000</td>\n",
       "      <td>63.000000</td>\n",
       "      <td>NaN</td>\n",
       "    </tr>\n",
       "  </tbody>\n",
       "</table>\n",
       "</div>"
      ],
      "text/plain": [
       "                 age          job  marital  education default        balance  \\\n",
       "count   40000.000000        40000    40000      40000   40000   40000.000000   \n",
       "unique           NaN           12        3          4       2            NaN   \n",
       "top              NaN  blue-collar  married  secondary      no            NaN   \n",
       "freq             NaN         9383    24386      20993   39191            NaN   \n",
       "mean       40.544600          NaN      NaN        NaN     NaN    1274.277550   \n",
       "std         9.641776          NaN      NaN        NaN     NaN    2903.769716   \n",
       "min        19.000000          NaN      NaN        NaN     NaN   -8019.000000   \n",
       "25%        33.000000          NaN      NaN        NaN     NaN      54.000000   \n",
       "50%        39.000000          NaN      NaN        NaN     NaN     407.000000   \n",
       "75%        48.000000          NaN      NaN        NaN     NaN    1319.000000   \n",
       "max        95.000000          NaN      NaN        NaN     NaN  102127.000000   \n",
       "\n",
       "       housing   loan   contact           day  month      duration  \\\n",
       "count    40000  40000     40000  40000.000000  40000  40000.000000   \n",
       "unique       2      2         3           NaN     11           NaN   \n",
       "top        yes     no  cellular           NaN    may           NaN   \n",
       "freq     24031  33070     24914           NaN  13532           NaN   \n",
       "mean       NaN    NaN       NaN     16.017225    NaN    254.824300   \n",
       "std        NaN    NaN       NaN      8.278127    NaN    259.366498   \n",
       "min        NaN    NaN       NaN      1.000000    NaN      0.000000   \n",
       "25%        NaN    NaN       NaN      8.000000    NaN    100.000000   \n",
       "50%        NaN    NaN       NaN     17.000000    NaN    175.000000   \n",
       "75%        NaN    NaN       NaN     21.000000    NaN    313.000000   \n",
       "max        NaN    NaN       NaN     31.000000    NaN   4918.000000   \n",
       "\n",
       "            campaign      y  \n",
       "count   40000.000000  40000  \n",
       "unique           NaN      2  \n",
       "top              NaN     no  \n",
       "freq             NaN  37104  \n",
       "mean        2.882175    NaN  \n",
       "std         3.239051    NaN  \n",
       "min         1.000000    NaN  \n",
       "25%         1.000000    NaN  \n",
       "50%         2.000000    NaN  \n",
       "75%         3.000000    NaN  \n",
       "max        63.000000    NaN  "
      ]
     },
     "execution_count": 4,
     "metadata": {},
     "output_type": "execute_result"
    }
   ],
   "source": [
    "df.describe(include=\"all\")"
   ]
  },
  {
   "cell_type": "markdown",
   "metadata": {},
   "source": [
    "**Observations**\n",
    "\n",
    "* we have 40000 entries , 13 features and y column which is our target(yes/no indicating whether or not the customer has subscribed to a loan)\n",
    "* We don't have any null values\n",
    "* We also have 5 numerical features and 8 categorical features"
   ]
  },
  {
   "cell_type": "code",
   "execution_count": 5,
   "metadata": {},
   "outputs": [
    {
     "name": "stdout",
     "output_type": "stream",
     "text": [
      "blue-collar      9383\n",
      "management       8166\n",
      "technician       6852\n",
      "admin            4483\n",
      "services         3910\n",
      "retired          1437\n",
      "self-employed    1414\n",
      "entrepreneur     1405\n",
      "unemployed       1104\n",
      "housemaid        1087\n",
      "student           524\n",
      "unknown           235\n",
      "Name: job, dtype: int64\n",
      "--------------------\n",
      "married     24386\n",
      "single      10889\n",
      "divorced     4725\n",
      "Name: marital, dtype: int64\n",
      "--------------------\n",
      "secondary    20993\n",
      "tertiary     11206\n",
      "primary       6270\n",
      "unknown       1531\n",
      "Name: education, dtype: int64\n",
      "--------------------\n",
      "no     39191\n",
      "yes      809\n",
      "Name: default, dtype: int64\n",
      "--------------------\n",
      "yes    24031\n",
      "no     15969\n",
      "Name: housing, dtype: int64\n",
      "--------------------\n",
      "no     33070\n",
      "yes     6930\n",
      "Name: loan, dtype: int64\n",
      "--------------------\n",
      "cellular     24914\n",
      "unknown      12765\n",
      "telephone     2321\n",
      "Name: contact, dtype: int64\n",
      "--------------------\n",
      "may    13532\n",
      "jul     6380\n",
      "aug     5215\n",
      "jun     4734\n",
      "nov     3598\n",
      "apr     2718\n",
      "feb     2296\n",
      "jan     1176\n",
      "mar      258\n",
      "oct       80\n",
      "dec       13\n",
      "Name: month, dtype: int64\n",
      "--------------------\n",
      "no     37104\n",
      "yes     2896\n",
      "Name: y, dtype: int64\n",
      "--------------------\n"
     ]
    }
   ],
   "source": [
    "# check the validity of string values\n",
    "stringdata = df.select_dtypes(include=\"object\")\n",
    "for column in stringdata:\n",
    "    print(stringdata[column].value_counts())\n",
    "    print (\"-\" * 20)"
   ]
  },
  {
   "cell_type": "markdown",
   "metadata": {},
   "source": [
    "Job, education and contact features have some unkown values, we need to find a way to fill them\n",
    "\n",
    "\n",
    "*  We can try some imputation techniques with unkown values: mean, median, mode\n",
    "* LEt try first to fill with the most frequent value"
   ]
  },
  {
   "cell_type": "code",
   "execution_count": 6,
   "metadata": {},
   "outputs": [],
   "source": [
    "#df = df[df['job'] != 'unknown']\n",
    "\n",
    "\n",
    "df['job'].replace(\"unknown\", df['job'].mode()[0], inplace = True)\n",
    "df['education'].replace(\"unknown\", df['education'].mode()[0], inplace = True)\n",
    "df['contact'].replace(\"unknown\", df['contact'].mode()[0], inplace = True)"
   ]
  },
  {
   "cell_type": "code",
   "execution_count": 7,
   "metadata": {},
   "outputs": [
    {
     "data": {
      "text/html": [
       "<div>\n",
       "<style scoped>\n",
       "    .dataframe tbody tr th:only-of-type {\n",
       "        vertical-align: middle;\n",
       "    }\n",
       "\n",
       "    .dataframe tbody tr th {\n",
       "        vertical-align: top;\n",
       "    }\n",
       "\n",
       "    .dataframe thead th {\n",
       "        text-align: right;\n",
       "    }\n",
       "</style>\n",
       "<table border=\"1\" class=\"dataframe\">\n",
       "  <thead>\n",
       "    <tr style=\"text-align: right;\">\n",
       "      <th></th>\n",
       "      <th>age</th>\n",
       "      <th>job</th>\n",
       "      <th>marital</th>\n",
       "      <th>education</th>\n",
       "      <th>default</th>\n",
       "      <th>balance</th>\n",
       "      <th>housing</th>\n",
       "      <th>loan</th>\n",
       "      <th>contact</th>\n",
       "      <th>day</th>\n",
       "      <th>month</th>\n",
       "      <th>duration</th>\n",
       "      <th>campaign</th>\n",
       "      <th>y</th>\n",
       "    </tr>\n",
       "  </thead>\n",
       "  <tbody>\n",
       "    <tr>\n",
       "      <th>0</th>\n",
       "      <td>58</td>\n",
       "      <td>management</td>\n",
       "      <td>married</td>\n",
       "      <td>tertiary</td>\n",
       "      <td>no</td>\n",
       "      <td>2143</td>\n",
       "      <td>yes</td>\n",
       "      <td>no</td>\n",
       "      <td>cellular</td>\n",
       "      <td>5</td>\n",
       "      <td>may</td>\n",
       "      <td>261</td>\n",
       "      <td>1</td>\n",
       "      <td>0</td>\n",
       "    </tr>\n",
       "    <tr>\n",
       "      <th>1</th>\n",
       "      <td>44</td>\n",
       "      <td>technician</td>\n",
       "      <td>single</td>\n",
       "      <td>secondary</td>\n",
       "      <td>no</td>\n",
       "      <td>29</td>\n",
       "      <td>yes</td>\n",
       "      <td>no</td>\n",
       "      <td>cellular</td>\n",
       "      <td>5</td>\n",
       "      <td>may</td>\n",
       "      <td>151</td>\n",
       "      <td>1</td>\n",
       "      <td>0</td>\n",
       "    </tr>\n",
       "    <tr>\n",
       "      <th>2</th>\n",
       "      <td>33</td>\n",
       "      <td>entrepreneur</td>\n",
       "      <td>married</td>\n",
       "      <td>secondary</td>\n",
       "      <td>no</td>\n",
       "      <td>2</td>\n",
       "      <td>yes</td>\n",
       "      <td>yes</td>\n",
       "      <td>cellular</td>\n",
       "      <td>5</td>\n",
       "      <td>may</td>\n",
       "      <td>76</td>\n",
       "      <td>1</td>\n",
       "      <td>0</td>\n",
       "    </tr>\n",
       "    <tr>\n",
       "      <th>3</th>\n",
       "      <td>47</td>\n",
       "      <td>blue-collar</td>\n",
       "      <td>married</td>\n",
       "      <td>secondary</td>\n",
       "      <td>no</td>\n",
       "      <td>1506</td>\n",
       "      <td>yes</td>\n",
       "      <td>no</td>\n",
       "      <td>cellular</td>\n",
       "      <td>5</td>\n",
       "      <td>may</td>\n",
       "      <td>92</td>\n",
       "      <td>1</td>\n",
       "      <td>0</td>\n",
       "    </tr>\n",
       "    <tr>\n",
       "      <th>4</th>\n",
       "      <td>33</td>\n",
       "      <td>blue-collar</td>\n",
       "      <td>single</td>\n",
       "      <td>secondary</td>\n",
       "      <td>no</td>\n",
       "      <td>1</td>\n",
       "      <td>no</td>\n",
       "      <td>no</td>\n",
       "      <td>cellular</td>\n",
       "      <td>5</td>\n",
       "      <td>may</td>\n",
       "      <td>198</td>\n",
       "      <td>1</td>\n",
       "      <td>0</td>\n",
       "    </tr>\n",
       "    <tr>\n",
       "      <th>...</th>\n",
       "      <td>...</td>\n",
       "      <td>...</td>\n",
       "      <td>...</td>\n",
       "      <td>...</td>\n",
       "      <td>...</td>\n",
       "      <td>...</td>\n",
       "      <td>...</td>\n",
       "      <td>...</td>\n",
       "      <td>...</td>\n",
       "      <td>...</td>\n",
       "      <td>...</td>\n",
       "      <td>...</td>\n",
       "      <td>...</td>\n",
       "      <td>...</td>\n",
       "    </tr>\n",
       "    <tr>\n",
       "      <th>39995</th>\n",
       "      <td>53</td>\n",
       "      <td>technician</td>\n",
       "      <td>married</td>\n",
       "      <td>tertiary</td>\n",
       "      <td>no</td>\n",
       "      <td>395</td>\n",
       "      <td>no</td>\n",
       "      <td>no</td>\n",
       "      <td>cellular</td>\n",
       "      <td>3</td>\n",
       "      <td>jun</td>\n",
       "      <td>107</td>\n",
       "      <td>1</td>\n",
       "      <td>0</td>\n",
       "    </tr>\n",
       "    <tr>\n",
       "      <th>39996</th>\n",
       "      <td>30</td>\n",
       "      <td>management</td>\n",
       "      <td>single</td>\n",
       "      <td>tertiary</td>\n",
       "      <td>no</td>\n",
       "      <td>3340</td>\n",
       "      <td>no</td>\n",
       "      <td>no</td>\n",
       "      <td>cellular</td>\n",
       "      <td>3</td>\n",
       "      <td>jun</td>\n",
       "      <td>238</td>\n",
       "      <td>3</td>\n",
       "      <td>1</td>\n",
       "    </tr>\n",
       "    <tr>\n",
       "      <th>39997</th>\n",
       "      <td>54</td>\n",
       "      <td>admin</td>\n",
       "      <td>divorced</td>\n",
       "      <td>secondary</td>\n",
       "      <td>no</td>\n",
       "      <td>200</td>\n",
       "      <td>no</td>\n",
       "      <td>no</td>\n",
       "      <td>cellular</td>\n",
       "      <td>3</td>\n",
       "      <td>jun</td>\n",
       "      <td>170</td>\n",
       "      <td>1</td>\n",
       "      <td>1</td>\n",
       "    </tr>\n",
       "    <tr>\n",
       "      <th>39998</th>\n",
       "      <td>34</td>\n",
       "      <td>management</td>\n",
       "      <td>married</td>\n",
       "      <td>tertiary</td>\n",
       "      <td>no</td>\n",
       "      <td>1047</td>\n",
       "      <td>no</td>\n",
       "      <td>no</td>\n",
       "      <td>cellular</td>\n",
       "      <td>3</td>\n",
       "      <td>jun</td>\n",
       "      <td>342</td>\n",
       "      <td>1</td>\n",
       "      <td>0</td>\n",
       "    </tr>\n",
       "    <tr>\n",
       "      <th>39999</th>\n",
       "      <td>38</td>\n",
       "      <td>technician</td>\n",
       "      <td>married</td>\n",
       "      <td>secondary</td>\n",
       "      <td>no</td>\n",
       "      <td>1442</td>\n",
       "      <td>yes</td>\n",
       "      <td>no</td>\n",
       "      <td>cellular</td>\n",
       "      <td>3</td>\n",
       "      <td>jun</td>\n",
       "      <td>113</td>\n",
       "      <td>1</td>\n",
       "      <td>0</td>\n",
       "    </tr>\n",
       "  </tbody>\n",
       "</table>\n",
       "<p>40000 rows × 14 columns</p>\n",
       "</div>"
      ],
      "text/plain": [
       "       age           job   marital  education default  balance housing loan  \\\n",
       "0       58    management   married   tertiary      no     2143     yes   no   \n",
       "1       44    technician    single  secondary      no       29     yes   no   \n",
       "2       33  entrepreneur   married  secondary      no        2     yes  yes   \n",
       "3       47   blue-collar   married  secondary      no     1506     yes   no   \n",
       "4       33   blue-collar    single  secondary      no        1      no   no   \n",
       "...    ...           ...       ...        ...     ...      ...     ...  ...   \n",
       "39995   53    technician   married   tertiary      no      395      no   no   \n",
       "39996   30    management    single   tertiary      no     3340      no   no   \n",
       "39997   54         admin  divorced  secondary      no      200      no   no   \n",
       "39998   34    management   married   tertiary      no     1047      no   no   \n",
       "39999   38    technician   married  secondary      no     1442     yes   no   \n",
       "\n",
       "        contact  day month  duration  campaign  y  \n",
       "0      cellular    5   may       261         1  0  \n",
       "1      cellular    5   may       151         1  0  \n",
       "2      cellular    5   may        76         1  0  \n",
       "3      cellular    5   may        92         1  0  \n",
       "4      cellular    5   may       198         1  0  \n",
       "...         ...  ...   ...       ...       ... ..  \n",
       "39995  cellular    3   jun       107         1  0  \n",
       "39996  cellular    3   jun       238         3  1  \n",
       "39997  cellular    3   jun       170         1  1  \n",
       "39998  cellular    3   jun       342         1  0  \n",
       "39999  cellular    3   jun       113         1  0  \n",
       "\n",
       "[40000 rows x 14 columns]"
      ]
     },
     "execution_count": 7,
     "metadata": {},
     "output_type": "execute_result"
    }
   ],
   "source": [
    "# change label to 0/1\n",
    "data = df.copy(deep=True)\n",
    "data['y'].replace('no',0, inplace=True)\n",
    "data['y'].replace('yes',1, inplace=True)\n",
    "data"
   ]
  },
  {
   "cell_type": "code",
   "execution_count": 8,
   "metadata": {},
   "outputs": [
    {
     "data": {
      "text/html": [
       "<div>\n",
       "<style scoped>\n",
       "    .dataframe tbody tr th:only-of-type {\n",
       "        vertical-align: middle;\n",
       "    }\n",
       "\n",
       "    .dataframe tbody tr th {\n",
       "        vertical-align: top;\n",
       "    }\n",
       "\n",
       "    .dataframe thead th {\n",
       "        text-align: right;\n",
       "    }\n",
       "</style>\n",
       "<table border=\"1\" class=\"dataframe\">\n",
       "  <thead>\n",
       "    <tr style=\"text-align: right;\">\n",
       "      <th></th>\n",
       "      <th>age</th>\n",
       "      <th>job</th>\n",
       "      <th>marital</th>\n",
       "      <th>education</th>\n",
       "      <th>default</th>\n",
       "      <th>balance</th>\n",
       "      <th>housing</th>\n",
       "      <th>loan</th>\n",
       "      <th>contact</th>\n",
       "      <th>day</th>\n",
       "      <th>month</th>\n",
       "      <th>duration</th>\n",
       "      <th>campaign</th>\n",
       "      <th>y</th>\n",
       "    </tr>\n",
       "  </thead>\n",
       "  <tbody>\n",
       "    <tr>\n",
       "      <th>0</th>\n",
       "      <td>39</td>\n",
       "      <td>4</td>\n",
       "      <td>1</td>\n",
       "      <td>2</td>\n",
       "      <td>0</td>\n",
       "      <td>3023</td>\n",
       "      <td>1</td>\n",
       "      <td>0</td>\n",
       "      <td>0</td>\n",
       "      <td>4</td>\n",
       "      <td>8</td>\n",
       "      <td>261</td>\n",
       "      <td>0</td>\n",
       "      <td>0</td>\n",
       "    </tr>\n",
       "    <tr>\n",
       "      <th>1</th>\n",
       "      <td>25</td>\n",
       "      <td>9</td>\n",
       "      <td>2</td>\n",
       "      <td>1</td>\n",
       "      <td>0</td>\n",
       "      <td>945</td>\n",
       "      <td>1</td>\n",
       "      <td>0</td>\n",
       "      <td>0</td>\n",
       "      <td>4</td>\n",
       "      <td>8</td>\n",
       "      <td>151</td>\n",
       "      <td>0</td>\n",
       "      <td>0</td>\n",
       "    </tr>\n",
       "    <tr>\n",
       "      <th>2</th>\n",
       "      <td>14</td>\n",
       "      <td>2</td>\n",
       "      <td>1</td>\n",
       "      <td>1</td>\n",
       "      <td>0</td>\n",
       "      <td>918</td>\n",
       "      <td>1</td>\n",
       "      <td>1</td>\n",
       "      <td>0</td>\n",
       "      <td>4</td>\n",
       "      <td>8</td>\n",
       "      <td>76</td>\n",
       "      <td>0</td>\n",
       "      <td>0</td>\n",
       "    </tr>\n",
       "    <tr>\n",
       "      <th>3</th>\n",
       "      <td>28</td>\n",
       "      <td>1</td>\n",
       "      <td>1</td>\n",
       "      <td>1</td>\n",
       "      <td>0</td>\n",
       "      <td>2420</td>\n",
       "      <td>1</td>\n",
       "      <td>0</td>\n",
       "      <td>0</td>\n",
       "      <td>4</td>\n",
       "      <td>8</td>\n",
       "      <td>92</td>\n",
       "      <td>0</td>\n",
       "      <td>0</td>\n",
       "    </tr>\n",
       "    <tr>\n",
       "      <th>4</th>\n",
       "      <td>14</td>\n",
       "      <td>1</td>\n",
       "      <td>2</td>\n",
       "      <td>1</td>\n",
       "      <td>0</td>\n",
       "      <td>917</td>\n",
       "      <td>0</td>\n",
       "      <td>0</td>\n",
       "      <td>0</td>\n",
       "      <td>4</td>\n",
       "      <td>8</td>\n",
       "      <td>198</td>\n",
       "      <td>0</td>\n",
       "      <td>0</td>\n",
       "    </tr>\n",
       "    <tr>\n",
       "      <th>...</th>\n",
       "      <td>...</td>\n",
       "      <td>...</td>\n",
       "      <td>...</td>\n",
       "      <td>...</td>\n",
       "      <td>...</td>\n",
       "      <td>...</td>\n",
       "      <td>...</td>\n",
       "      <td>...</td>\n",
       "      <td>...</td>\n",
       "      <td>...</td>\n",
       "      <td>...</td>\n",
       "      <td>...</td>\n",
       "      <td>...</td>\n",
       "      <td>...</td>\n",
       "    </tr>\n",
       "    <tr>\n",
       "      <th>39995</th>\n",
       "      <td>34</td>\n",
       "      <td>9</td>\n",
       "      <td>1</td>\n",
       "      <td>2</td>\n",
       "      <td>0</td>\n",
       "      <td>1311</td>\n",
       "      <td>0</td>\n",
       "      <td>0</td>\n",
       "      <td>0</td>\n",
       "      <td>2</td>\n",
       "      <td>6</td>\n",
       "      <td>107</td>\n",
       "      <td>0</td>\n",
       "      <td>0</td>\n",
       "    </tr>\n",
       "    <tr>\n",
       "      <th>39996</th>\n",
       "      <td>11</td>\n",
       "      <td>4</td>\n",
       "      <td>2</td>\n",
       "      <td>2</td>\n",
       "      <td>0</td>\n",
       "      <td>4035</td>\n",
       "      <td>0</td>\n",
       "      <td>0</td>\n",
       "      <td>0</td>\n",
       "      <td>2</td>\n",
       "      <td>6</td>\n",
       "      <td>238</td>\n",
       "      <td>2</td>\n",
       "      <td>1</td>\n",
       "    </tr>\n",
       "    <tr>\n",
       "      <th>39997</th>\n",
       "      <td>35</td>\n",
       "      <td>0</td>\n",
       "      <td>0</td>\n",
       "      <td>1</td>\n",
       "      <td>0</td>\n",
       "      <td>1116</td>\n",
       "      <td>0</td>\n",
       "      <td>0</td>\n",
       "      <td>0</td>\n",
       "      <td>2</td>\n",
       "      <td>6</td>\n",
       "      <td>170</td>\n",
       "      <td>0</td>\n",
       "      <td>1</td>\n",
       "    </tr>\n",
       "    <tr>\n",
       "      <th>39998</th>\n",
       "      <td>15</td>\n",
       "      <td>4</td>\n",
       "      <td>1</td>\n",
       "      <td>2</td>\n",
       "      <td>0</td>\n",
       "      <td>1963</td>\n",
       "      <td>0</td>\n",
       "      <td>0</td>\n",
       "      <td>0</td>\n",
       "      <td>2</td>\n",
       "      <td>6</td>\n",
       "      <td>342</td>\n",
       "      <td>0</td>\n",
       "      <td>0</td>\n",
       "    </tr>\n",
       "    <tr>\n",
       "      <th>39999</th>\n",
       "      <td>19</td>\n",
       "      <td>9</td>\n",
       "      <td>1</td>\n",
       "      <td>1</td>\n",
       "      <td>0</td>\n",
       "      <td>2358</td>\n",
       "      <td>1</td>\n",
       "      <td>0</td>\n",
       "      <td>0</td>\n",
       "      <td>2</td>\n",
       "      <td>6</td>\n",
       "      <td>113</td>\n",
       "      <td>0</td>\n",
       "      <td>0</td>\n",
       "    </tr>\n",
       "  </tbody>\n",
       "</table>\n",
       "<p>40000 rows × 14 columns</p>\n",
       "</div>"
      ],
      "text/plain": [
       "       age  job  marital  education  default  balance  housing  loan  contact  \\\n",
       "0       39    4        1          2        0     3023        1     0        0   \n",
       "1       25    9        2          1        0      945        1     0        0   \n",
       "2       14    2        1          1        0      918        1     1        0   \n",
       "3       28    1        1          1        0     2420        1     0        0   \n",
       "4       14    1        2          1        0      917        0     0        0   \n",
       "...    ...  ...      ...        ...      ...      ...      ...   ...      ...   \n",
       "39995   34    9        1          2        0     1311        0     0        0   \n",
       "39996   11    4        2          2        0     4035        0     0        0   \n",
       "39997   35    0        0          1        0     1116        0     0        0   \n",
       "39998   15    4        1          2        0     1963        0     0        0   \n",
       "39999   19    9        1          1        0     2358        1     0        0   \n",
       "\n",
       "       day  month  duration  campaign  y  \n",
       "0        4      8       261         0  0  \n",
       "1        4      8       151         0  0  \n",
       "2        4      8        76         0  0  \n",
       "3        4      8        92         0  0  \n",
       "4        4      8       198         0  0  \n",
       "...    ...    ...       ...       ... ..  \n",
       "39995    2      6       107         0  0  \n",
       "39996    2      6       238         2  1  \n",
       "39997    2      6       170         0  1  \n",
       "39998    2      6       342         0  0  \n",
       "39999    2      6       113         0  0  \n",
       "\n",
       "[40000 rows x 14 columns]"
      ]
     },
     "execution_count": 8,
     "metadata": {},
     "output_type": "execute_result"
    }
   ],
   "source": [
    "# transform continue data to categorical by grouping\n",
    "intdata = df.select_dtypes(include=\"int64\")\n",
    "for column in intdata:\n",
    "    df[column + \"_bin\"] = pd.cut(df[column], 8)\n",
    "    df.drop(column, axis = 1, inplace = True)\n",
    "\n",
    "\n",
    "# Using Label Encoding for categorical data   \n",
    "label = LabelEncoder()\n",
    "data_calc = pd.DataFrame()\n",
    "for column in data:\n",
    "    data_calc[column] = label.fit_transform(data[column])\n",
    "    \n",
    "data_calc\n"
   ]
  },
  {
   "cell_type": "code",
   "execution_count": 9,
   "metadata": {},
   "outputs": [],
   "source": [
    "# Putting feature variable to X\n",
    "X = data_calc.drop(['y'], axis=1)\n",
    "\n",
    "# puttting target variable to y\n",
    "y = data_calc['y']"
   ]
  },
  {
   "cell_type": "markdown",
   "metadata": {},
   "source": [
    "**Data Analysis**"
   ]
  },
  {
   "cell_type": "code",
   "execution_count": 10,
   "metadata": {},
   "outputs": [
    {
     "name": "stderr",
     "output_type": "stream",
     "text": [
      "/home/amath/.local/lib/python3.8/site-packages/seaborn/distributions.py:2619: FutureWarning: `distplot` is a deprecated function and will be removed in a future version. Please adapt your code to use either `displot` (a figure-level function with similar flexibility) or `histplot` (an axes-level function for histograms).\n",
      "  warnings.warn(msg, FutureWarning)\n",
      "/home/amath/.local/lib/python3.8/site-packages/seaborn/distributions.py:2619: FutureWarning: `distplot` is a deprecated function and will be removed in a future version. Please adapt your code to use either `displot` (a figure-level function with similar flexibility) or `histplot` (an axes-level function for histograms).\n",
      "  warnings.warn(msg, FutureWarning)\n",
      "/home/amath/.local/lib/python3.8/site-packages/seaborn/distributions.py:2619: FutureWarning: `distplot` is a deprecated function and will be removed in a future version. Please adapt your code to use either `displot` (a figure-level function with similar flexibility) or `histplot` (an axes-level function for histograms).\n",
      "  warnings.warn(msg, FutureWarning)\n",
      "/home/amath/.local/lib/python3.8/site-packages/seaborn/distributions.py:2619: FutureWarning: `distplot` is a deprecated function and will be removed in a future version. Please adapt your code to use either `displot` (a figure-level function with similar flexibility) or `histplot` (an axes-level function for histograms).\n",
      "  warnings.warn(msg, FutureWarning)\n"
     ]
    },
    {
     "data": {
      "text/plain": [
       "Text(0.5, 1.0, 'Duration of Time Contact Distribution by Subscription')"
      ]
     },
     "execution_count": 10,
     "metadata": {},
     "output_type": "execute_result"
    },
    {
     "data": {
      "image/png": "[encoded data removed]",
      "text/plain": [
       "<Figure size 1224x360 with 1 Axes>"
      ]
     },
     "metadata": {
      "needs_background": "light"
     },
     "output_type": "display_data"
    },
    {
     "data": {
      "image/png": "[encoded data removed]",
      "text/plain": [
       "<Figure size 1224x360 with 1 Axes>"
      ]
     },
     "metadata": {
      "needs_background": "light"
     },
     "output_type": "display_data"
    }
   ],
   "source": [
    "plt.figure(figsize = (17, 5))\n",
    "sns.distplot(data.loc[data.y == 0, 'age'], label = \"Not Subscribed\", hist = True)\n",
    "sns.distplot(data.loc[data.y == 1, 'age'], label = \"Subscribed\", hist = True)\n",
    "plt.title(\"Age Distribution by Subscription\")\n",
    "\n",
    "plt.figure(figsize = (17, 5))\n",
    "sns.distplot(data.loc[data.y == 0, 'duration'], label = \"Not Subscribed\", hist = True)\n",
    "sns.distplot(data.loc[data.y == 1, 'duration'], label = \"Subscribed\", hist = True)\n",
    "plt.title(\"Duration of Time Contact Distribution by Subscription\")"
   ]
  },
  {
   "cell_type": "markdown",
   "metadata": {},
   "source": [
    "**Observations:**\n",
    "\n",
    "* customers between 20 and 60 years old are more wealling to subscribe term deposit.\n",
    "* customers whose contact duration time is more than 500 agree to subrscibe term deposit."
   ]
  },
  {
   "cell_type": "code",
   "execution_count": 11,
   "metadata": {},
   "outputs": [
    {
     "data": {
      "text/plain": [
       "Text(0.5, 1.0, 'Subscribe Probability by Education')"
      ]
     },
     "execution_count": 11,
     "metadata": {},
     "output_type": "execute_result"
    },
    {
     "data": {
      "image/png": "[encoded data removed]",
      "text/plain": [
       "<Figure size 1440x360 with 1 Axes>"
      ]
     },
     "metadata": {
      "needs_background": "light"
     },
     "output_type": "display_data"
    },
    {
     "data": {
      "image/png": "[encoded data removed]",
      "text/plain": [
       "<Figure size 1440x360 with 2 Axes>"
      ]
     },
     "metadata": {
      "needs_background": "light"
     },
     "output_type": "display_data"
    }
   ],
   "source": [
    "plt.figure( figsize = (20, 5))\n",
    "sns.barplot(data = data, x = 'job', y = 'y')\n",
    "plt.xlabel(\"Job\", fontsize = 14)\n",
    "plt.ylabel(\"Probability\", fontsize = 14)\n",
    "plt.title(\"Subscribe Probability by Job\", fontsize = 14)\n",
    "\n",
    "plt.figure( figsize = (20, 5))\n",
    "plt.subplot(121)\n",
    "sns.barplot(data = data, x = 'marital', y = 'y')\n",
    "plt.xlabel(\"Marital Situation\", fontsize = 14)\n",
    "plt.ylabel(\"Probability\", fontsize = 14)\n",
    "plt.title(\"Subscribe Probability by Marital Situation\", fontsize = 14)\n",
    "\n",
    "plt.subplot(122)\n",
    "sns.barplot(data = data, x = 'education', y = 'y')\n",
    "plt.xlabel(\"Education\", fontsize = 14)\n",
    "plt.ylabel(\"Probability\", fontsize = 14)\n",
    "plt.title(\"Subscribe Probability by Education\", fontsize = 14)"
   ]
  },
  {
   "cell_type": "markdown",
   "metadata": {},
   "source": [
    "We observe that students, single and tertiary people are more wealling to subscribe term deposit"
   ]
  },
  {
   "cell_type": "code",
   "execution_count": 12,
   "metadata": {},
   "outputs": [
    {
     "data": {
      "text/plain": [
       "Text(0.5, 1.0, 'Age Distribution by Job, Divided by Subscription (0) for Not Subscribed, (1) for Subscribed')"
      ]
     },
     "execution_count": 12,
     "metadata": {},
     "output_type": "execute_result"
    },
    {
     "data": {
      "image/png": "[encoded data removed]",
      "text/plain": [
       "<Figure size 1440x576 with 1 Axes>"
      ]
     },
     "metadata": {
      "needs_background": "light"
     },
     "output_type": "display_data"
    }
   ],
   "source": [
    "plt.figure( figsize = (20, 8))\n",
    "sns.violinplot(x = 'job', y = 'age', hue = 'y', data = data, split = True)\n",
    "plt.xlabel(\"Job\", fontsize = 14)\n",
    "plt.ylabel(\"Age\", fontsize = 14)\n",
    "plt.title(\"Age Distribution by Job, Divided by Subscription (0) for Not Subscribed, (1) for Subscribed\", fontsize = 15)"
   ]
  },
  {
   "cell_type": "markdown",
   "metadata": {},
   "source": [
    "For every job category, older people tend to accept term deposit subscription"
   ]
  },
  {
   "cell_type": "code",
   "execution_count": 13,
   "metadata": {},
   "outputs": [
    {
     "data": {
      "text/plain": [
       "Text(0.5, 1.0, 'Age Distribution by Personal Loan')"
      ]
     },
     "execution_count": 13,
     "metadata": {},
     "output_type": "execute_result"
    },
    {
     "data": {
      "image/png": "[encoded data removed]",
      "text/plain": [
       "<Figure size 1440x576 with 2 Axes>"
      ]
     },
     "metadata": {
      "needs_background": "light"
     },
     "output_type": "display_data"
    }
   ],
   "source": [
    "plt.figure( figsize = (20, 8))\n",
    "\n",
    "plt.subplot(121)\n",
    "sns.boxenplot(x = 'housing', y = 'age', hue = 'y', data = data)\n",
    "plt.xlabel(\"Housing\", fontsize = 14)\n",
    "plt.ylabel(\"Age\", fontsize = 14)\n",
    "plt.title(\"Age Distribution by Housing Loan\", fontsize = 15)\n",
    "\n",
    "plt.subplot(122)\n",
    "sns.boxenplot(x = 'loan', y = 'age', hue = 'y', data = data)\n",
    "plt.xlabel(\"Loan\", fontsize = 14)\n",
    "plt.ylabel(\"Age\", fontsize = 14)\n",
    "plt.title(\"Age Distribution by Personal Loan\", fontsize = 15)"
   ]
  },
  {
   "cell_type": "markdown",
   "metadata": {},
   "source": [
    "* duration is more correlated to target variable\n",
    "* campaign is less correlated"
   ]
  },
  {
   "cell_type": "code",
   "execution_count": 14,
   "metadata": {},
   "outputs": [
    {
     "name": "stdout",
     "output_type": "stream",
     "text": [
      "0    37104\n",
      "1     2896\n",
      "Name: y, dtype: int64\n"
     ]
    },
    {
     "data": {
      "text/plain": [
       "<AxesSubplot:xlabel='y', ylabel='count'>"
      ]
     },
     "execution_count": 14,
     "metadata": {},
     "output_type": "execute_result"
    },
    {
     "data": {
      "image/png": "[encoded data removed]",
      "text/plain": [
       "<Figure size 432x288 with 1 Axes>"
      ]
     },
     "metadata": {
      "needs_background": "light"
     },
     "output_type": "display_data"
    }
   ],
   "source": [
    "print(data_calc['y'].value_counts())\n",
    "sns.countplot(x='y', data=data_calc)"
   ]
  },
  {
   "cell_type": "markdown",
   "metadata": {},
   "source": [
    "We observe that the data is highly unbalanced"
   ]
  },
  {
   "cell_type": "code",
   "execution_count": 15,
   "metadata": {},
   "outputs": [],
   "source": [
    "#oversampling from the minority class\n",
    "#from imblearn.over_sampling import RandomOverSampler\n",
    "#ROS = RandomOverSampler(sampling_strategy='minority', random_state=42)\n",
    "\n",
    "#X, y = ROS.fit_resample(X, y)"
   ]
  },
  {
   "cell_type": "markdown",
   "metadata": {},
   "source": [
    "**Model Training**"
   ]
  },
  {
   "cell_type": "code",
   "execution_count": 16,
   "metadata": {},
   "outputs": [],
   "source": [
    "#Splitting the data into train and test data\n",
    "X_train, X_test, y_train, y_test = train_test_split(X,y,train_size=0.75,test_size = 0.25, random_state = 42,stratify=y)"
   ]
  },
  {
   "cell_type": "code",
   "execution_count": 17,
   "metadata": {},
   "outputs": [],
   "source": [
    "#oversampling from the minority class\n",
    "from imblearn.over_sampling import RandomOverSampler\n",
    "ROS = RandomOverSampler(sampling_strategy='minority', random_state=42)\n",
    "\n",
    "X_train, y_train = ROS.fit_resample(X_train, y_train)"
   ]
  },
  {
   "cell_type": "code",
   "execution_count": 18,
   "metadata": {},
   "outputs": [],
   "source": [
    "def model_performance(Xlr,ylr):\n",
    "    # Spot Check Algorithms\n",
    "    SEED=42\n",
    "    models = []\n",
    "    models.append(('LR', LogisticRegression(C=9,max_iter=3000,solver=\"lbfgs\")))\n",
    "    models.append(('LDA', LinearDiscriminantAnalysis()))\n",
    "    models.append(('KNN', KNeighborsClassifier()))\n",
    "    models.append(('DesTree', DecisionTreeClassifier(class_weight='balanced', max_depth=30,\n",
    "                       min_samples_leaf=10, min_samples_split=10,\n",
    "                       random_state=42)))\n",
    "    models.append(('NB', GaussianNB()))\n",
    "    models.append(('SVM', SVC(gamma='auto',probability=True)))\n",
    "    models.append(('RF', RandomForestClassifier(n_jobs=-1, n_estimators=100,random_state=SEED, class_weight=\"balanced_subsample\")))\n",
    "    ratio = float(np.sum(ylr == 0)) / np.sum(ylr==1)\n",
    "    models.append(('XGB', XGBClassifier(scale_pos_weight = ratio, learning_rate =0.001,\n",
    "                        objective= 'binary:logistic', use_label_encoder=True, eval_metric='error')))\n",
    "\n",
    "    # evaluate each model in turn\n",
    "    results = []\n",
    "    names = []\n",
    "    for name, model in models:\n",
    "        kfold = StratifiedKFold(n_splits=5, random_state=42, shuffle=True)\n",
    "        #kfold = KFold(n_splits=5, random_state=0, shuffle=True)\n",
    "        cv_results = cross_val_score(model, Xlr, ylr, cv=kfold, scoring='accuracy')\n",
    "        results.append(cv_results)\n",
    "        names.append(name)\n",
    "        print('%s: %.2f (%.2f)' % (name, cv_results.mean()*100, cv_results.std()))\n",
    "    _ = plt.bar(names,np.mean(results, axis=1)*100)"
   ]
  },
  {
   "cell_type": "code",
   "execution_count": 19,
   "metadata": {},
   "outputs": [
    {
     "name": "stdout",
     "output_type": "stream",
     "text": [
      "LR: 81.13 (0.00)\n",
      "LDA: 79.84 (0.00)\n",
      "KNN: 93.19 (0.00)\n",
      "DesTree: 93.03 (0.00)\n",
      "NB: 80.80 (0.00)\n",
      "SVM: 100.00 (0.00)\n",
      "RF: 98.15 (0.00)\n",
      "[13:34:08] WARNING: /workspace/src/learner.cc:480: \n",
      "Parameters: { use_label_encoder } might not be used.\n",
      "\n",
      "  This may not be accurate due to some parameters are only used in language bindings but\n",
      "  passed down to XGBoost core.  Or some parameters are not used but slip through this\n",
      "  verification. Please open an issue if you find above cases.\n",
      "\n",
      "\n",
      "[13:34:09] WARNING: /workspace/src/learner.cc:480: \n",
      "Parameters: { use_label_encoder } might not be used.\n",
      "\n",
      "  This may not be accurate due to some parameters are only used in language bindings but\n",
      "  passed down to XGBoost core.  Or some parameters are not used but slip through this\n",
      "  verification. Please open an issue if you find above cases.\n",
      "\n",
      "\n",
      "[13:34:10] WARNING: /workspace/src/learner.cc:480: \n",
      "Parameters: { use_label_encoder } might not be used.\n",
      "\n",
      "  This may not be accurate due to some parameters are only used in language bindings but\n",
      "  passed down to XGBoost core.  Or some parameters are not used but slip through this\n",
      "  verification. Please open an issue if you find above cases.\n",
      "\n",
      "\n",
      "[13:34:12] WARNING: /workspace/src/learner.cc:480: \n",
      "Parameters: { use_label_encoder } might not be used.\n",
      "\n",
      "  This may not be accurate due to some parameters are only used in language bindings but\n",
      "  passed down to XGBoost core.  Or some parameters are not used but slip through this\n",
      "  verification. Please open an issue if you find above cases.\n",
      "\n",
      "\n",
      "[13:34:13] WARNING: /workspace/src/learner.cc:480: \n",
      "Parameters: { use_label_encoder } might not be used.\n",
      "\n",
      "  This may not be accurate due to some parameters are only used in language bindings but\n",
      "  passed down to XGBoost core.  Or some parameters are not used but slip through this\n",
      "  verification. Please open an issue if you find above cases.\n",
      "\n",
      "\n",
      "XGB: 85.78 (0.00)\n"
     ]
    },
    {
     "data": {
      "image/png": "[encoded data removed]",
      "text/plain": [
       "<Figure size 432x288 with 1 Axes>"
      ]
     },
     "metadata": {
      "needs_background": "light"
     },
     "output_type": "display_data"
    }
   ],
   "source": [
    "# model performance and average performance score\n",
    "model_performance(X_train, y_train)"
   ]
  },
  {
   "cell_type": "markdown",
   "metadata": {},
   "source": [
    "**Performance Logistic Regression: LR**"
   ]
  },
  {
   "cell_type": "code",
   "execution_count": 20,
   "metadata": {},
   "outputs": [
    {
     "name": "stdout",
     "output_type": "stream",
     "text": [
      "AUC score: 0.8952837358453706\n",
      "Testing Accuracy: 84.33 \n",
      "\n",
      "Confusion matrix:\n",
      "[[7863 1413]\n",
      " [ 154  570]]\n",
      "\n",
      "Classification Report:\n",
      "\n",
      "              precision    recall  f1-score   support\n",
      "\n",
      "           0       0.98      0.85      0.91      9276\n",
      "           1       0.29      0.79      0.42       724\n",
      "\n",
      "    accuracy                           0.84     10000\n",
      "   macro avg       0.63      0.82      0.67     10000\n",
      "weighted avg       0.93      0.84      0.87     10000\n",
      "\n"
     ]
    }
   ],
   "source": [
    "rfcModel = LogisticRegression(C=9,max_iter=3000,solver=\"lbfgs\")\n",
    "rfcModel.fit(X_train, y_train)\n",
    "predictions = rfcModel.predict(X_test)\n",
    "predictions_proba = rfcModel.predict_proba(X_test)\n",
    "# roc curve for models\n",
    "fpr1, tpr1, thresh1 = roc_curve(y_test, predictions_proba[:,1], pos_label=1)\n",
    "\n",
    "# Evaluate predictions\n",
    "auc_score1 = roc_auc_score(y_test, predictions_proba[:,1])\n",
    "print(\"AUC score:\",auc_score1)\n",
    "print('Testing Accuracy: %.2f \\n' % (accuracy_score(y_test, predictions)*100))\n",
    "print('Confusion matrix:')\n",
    "print(confusion_matrix(y_test, predictions))\n",
    "print('\\nClassification Report:\\n')\n",
    "print(classification_report(y_test, predictions))"
   ]
  },
  {
   "cell_type": "markdown",
   "metadata": {},
   "source": [
    "**Linear Discriminant Analysis**"
   ]
  },
  {
   "cell_type": "code",
   "execution_count": 21,
   "metadata": {},
   "outputs": [
    {
     "name": "stdout",
     "output_type": "stream",
     "text": [
      "AUC score: 0.8953757573158558\n",
      "Testing Accuracy: 87.26 \n",
      "\n",
      "Confusion matrix:\n",
      "[[8194 1082]\n",
      " [ 192  532]]\n",
      "\n",
      "Classification Report:\n",
      "\n",
      "              precision    recall  f1-score   support\n",
      "\n",
      "           0       0.98      0.88      0.93      9276\n",
      "           1       0.33      0.73      0.46       724\n",
      "\n",
      "    accuracy                           0.87     10000\n",
      "   macro avg       0.65      0.81      0.69     10000\n",
      "weighted avg       0.93      0.87      0.89     10000\n",
      "\n"
     ]
    }
   ],
   "source": [
    "rfcModel = LinearDiscriminantAnalysis()\n",
    "rfcModel.fit(X_train, y_train)\n",
    "predictions = rfcModel.predict(X_test)\n",
    "predictions_proba = rfcModel.predict_proba(X_test)\n",
    "# roc curve for models\n",
    "fpr2, tpr2, thresh2 = roc_curve(y_test, predictions_proba[:,1], pos_label=1)\n",
    "\n",
    "# Evaluate predictions\n",
    "auc_score2 = roc_auc_score(y_test, predictions_proba[:,1])\n",
    "print(\"AUC score:\",auc_score2)\n",
    "print('Testing Accuracy: %.2f \\n' % (accuracy_score(y_test, predictions)*100))\n",
    "print('Confusion matrix:')\n",
    "print(confusion_matrix(y_test, predictions))\n",
    "print('\\nClassification Report:\\n')\n",
    "print(classification_report(y_test, predictions))"
   ]
  },
  {
   "cell_type": "markdown",
   "metadata": {},
   "source": [
    "**K Nearest Neighbor:**"
   ]
  },
  {
   "cell_type": "code",
   "execution_count": 22,
   "metadata": {},
   "outputs": [
    {
     "name": "stdout",
     "output_type": "stream",
     "text": [
      "AUC score: 0.760552763145669\n",
      "Testing Accuracy: 85.63 \n",
      "\n",
      "Confusion matrix:\n",
      "[[8162 1114]\n",
      " [ 323  401]]\n",
      "\n",
      "Classification Report:\n",
      "\n",
      "              precision    recall  f1-score   support\n",
      "\n",
      "           0       0.96      0.88      0.92      9276\n",
      "           1       0.26      0.55      0.36       724\n",
      "\n",
      "    accuracy                           0.86     10000\n",
      "   macro avg       0.61      0.72      0.64     10000\n",
      "weighted avg       0.91      0.86      0.88     10000\n",
      "\n"
     ]
    }
   ],
   "source": [
    "rfcModel = KNeighborsClassifier()\n",
    "rfcModel.fit(X_train, y_train)\n",
    "predictions = rfcModel.predict(X_test)\n",
    "predictions_proba = rfcModel.predict_proba(X_test)\n",
    "# roc curve for models\n",
    "fpr3, tpr3, thresh3 = roc_curve(y_test, predictions_proba[:,1], pos_label=1)\n",
    "\n",
    "# Evaluate predictions\n",
    "auc_score3 = roc_auc_score(y_test, predictions_proba[:,1])\n",
    "print(\"AUC score:\",auc_score3)\n",
    "print('Testing Accuracy: %.2f \\n' % (accuracy_score(y_test, predictions)*100))\n",
    "print('Confusion matrix:')\n",
    "print(confusion_matrix(y_test, predictions))\n",
    "print('\\nClassification Report:\\n')\n",
    "print(classification_report(y_test, predictions))"
   ]
  },
  {
   "cell_type": "markdown",
   "metadata": {},
   "source": [
    "**Decision Tree Classifier**"
   ]
  },
  {
   "cell_type": "code",
   "execution_count": 29,
   "metadata": {},
   "outputs": [
    {
     "name": "stdout",
     "output_type": "stream",
     "text": [
      "AUC score: 0.8126720563254786\n",
      "Testing Accuracy: 88.68 \n",
      "\n",
      "Confusion matrix:\n",
      "[[8372  904]\n",
      " [ 228  496]]\n",
      "\n",
      "Classification Report:\n",
      "\n",
      "              precision    recall  f1-score   support\n",
      "\n",
      "           0       0.97      0.90      0.94      9276\n",
      "           1       0.35      0.69      0.47       724\n",
      "\n",
      "    accuracy                           0.89     10000\n",
      "   macro avg       0.66      0.79      0.70     10000\n",
      "weighted avg       0.93      0.89      0.90     10000\n",
      "\n"
     ]
    }
   ],
   "source": [
    "rfcModel = DecisionTreeClassifier(class_weight='balanced', max_depth=30,\n",
    "                       min_samples_leaf=10, min_samples_split=10,\n",
    "                       random_state=42)\n",
    "rfcModel.fit(X_train, y_train)\n",
    "predictions = rfcModel.predict(X_test)\n",
    "predictions_proba = rfcModel.predict_proba(X_test)\n",
    "# roc curve for models\n",
    "fpr4, tpr4, thresh4 = roc_curve(y_test, predictions_proba[:,1], pos_label=1)\n",
    "\n",
    "# Evaluate predictions\n",
    "auc_score4 = roc_auc_score(y_test, predictions_proba[:,1])\n",
    "print(\"AUC score:\",auc_score4)\n",
    "print('Testing Accuracy: %.2f \\n' % (accuracy_score(y_test, predictions)*100))\n",
    "print('Confusion matrix:')\n",
    "print(confusion_matrix(y_test, predictions))\n",
    "print('\\nClassification Report:\\n')\n",
    "print(classification_report(y_test, predictions))"
   ]
  },
  {
   "cell_type": "markdown",
   "metadata": {},
   "source": [
    "**Gaussian Naive Bayes**"
   ]
  },
  {
   "cell_type": "code",
   "execution_count": 25,
   "metadata": {},
   "outputs": [
    {
     "name": "stdout",
     "output_type": "stream",
     "text": [
      "AUC score: 0.8863658428213723\n",
      "Testing Accuracy: 85.35 \n",
      "\n",
      "Confusion matrix:\n",
      "[[7985 1291]\n",
      " [ 174  550]]\n",
      "\n",
      "Classification Report:\n",
      "\n",
      "              precision    recall  f1-score   support\n",
      "\n",
      "           0       0.98      0.86      0.92      9276\n",
      "           1       0.30      0.76      0.43       724\n",
      "\n",
      "    accuracy                           0.85     10000\n",
      "   macro avg       0.64      0.81      0.67     10000\n",
      "weighted avg       0.93      0.85      0.88     10000\n",
      "\n"
     ]
    }
   ],
   "source": [
    "rfcModel = GaussianNB()\n",
    "rfcModel.fit(X_train, y_train)\n",
    "predictions = rfcModel.predict(X_test)\n",
    "predictions_proba = rfcModel.predict_proba(X_test)\n",
    "# roc curve for models\n",
    "fpr5, tpr5, thresh5 = roc_curve(y_test, predictions_proba[:,1], pos_label=1)\n",
    "\n",
    "# Evaluate predictions\n",
    "auc_score5 = roc_auc_score(y_test, predictions_proba[:,1])\n",
    "print(\"AUC score:\",auc_score5)\n",
    "print('Testing Accuracy: %.2f \\n' % (accuracy_score(y_test, predictions)*100))\n",
    "print('Confusion matrix:')\n",
    "print(confusion_matrix(y_test, predictions))\n",
    "print('\\nClassification Report:\\n')\n",
    "print(classification_report(y_test, predictions))"
   ]
  },
  {
   "cell_type": "markdown",
   "metadata": {},
   "source": [
    "**Super Vector Machine**"
   ]
  },
  {
   "cell_type": "code",
   "execution_count": 41,
   "metadata": {},
   "outputs": [
    {
     "name": "stdout",
     "output_type": "stream",
     "text": [
      "Testing Accuracy: 92.75 \n",
      "\n",
      "Confusion matrix:\n",
      "[[9275    1]\n",
      " [ 724    0]]\n",
      "\n",
      "Classification Report:\n",
      "\n",
      "              precision    recall  f1-score   support\n",
      "\n",
      "           0       0.93      1.00      0.96      9276\n",
      "           1       0.00      0.00      0.00       724\n",
      "\n",
      "    accuracy                           0.93     10000\n",
      "   macro avg       0.46      0.50      0.48     10000\n",
      "weighted avg       0.86      0.93      0.89     10000\n",
      "\n"
     ]
    }
   ],
   "source": [
    "rfcModel = SVC(gamma='auto')\n",
    "rfcModel.fit(X_train, y_train)\n",
    "predictions = rfcModel.predict(X_test)\n",
    "predictions_proba = rfcModel.predict_proba(X_test, probability=True)\n",
    "# roc curve for models\n",
    "fpr6, tpr6, thresh6 = roc_curve(y_test, predictions_proba[:,1], pos_label=1)\n",
    "\n",
    "# Evaluate predictions\n",
    "auc_score6 = roc_auc_score(y_test, predictions_proba[:,1])\n",
    "print(\"AUC score:\",auc_score6)\n",
    "\n",
    "print('Testing Accuracy: %.2f \\n' % (accuracy_score(y_test, predictions)*100))\n",
    "print('Confusion matrix:')\n",
    "print(confusion_matrix(y_test, predictions))\n",
    "print('\\nClassification Report:\\n')\n",
    "print(classification_report(y_test, predictions))"
   ]
  },
  {
   "cell_type": "markdown",
   "metadata": {},
   "source": [
    "**XGBoost Classifier**"
   ]
  },
  {
   "cell_type": "code",
   "execution_count": null,
   "metadata": {},
   "outputs": [
    {
     "name": "stdout",
     "output_type": "stream",
     "text": [
      "AUC score: 0.9121988604823473\n",
      "Testing Accuracy: 87.16 \n",
      "\n",
      "Confusion matrix:\n",
      "[[8116 1160]\n",
      " [ 124  600]]\n",
      "\n",
      "Classification Report:\n",
      "\n",
      "              precision    recall  f1-score   support\n",
      "\n",
      "           0       0.98      0.87      0.93      9276\n",
      "           1       0.34      0.83      0.48       724\n",
      "\n",
      "    accuracy                           0.87     10000\n",
      "   macro avg       0.66      0.85      0.70     10000\n",
      "weighted avg       0.94      0.87      0.89     10000\n",
      "\n"
     ]
    }
   ],
   "source": [
    "ratio = float(np.sum(y_train == 0)) / np.sum(y_train==1)\n",
    "rfcModel = XGBClassifier(scale_pos_weight = ratio, learning_rate =0.01,\n",
    "                        objective= 'binary:logistic', use_label_encoder=False, eval_metric='error')\n",
    "rfcModel.fit(X_train, y_train)\n",
    "predictions = rfcModel.predict(X_test)\n",
    "predictions_proba = rfcModel.predict_proba(X_test)\n",
    "# roc curve for models\n",
    "fpr7, tpr7, thresh7 = roc_curve(y_test, predictions_proba[:,1], pos_label=1)\n",
    "\n",
    "# Evaluate predictions\n",
    "auc_score7 = roc_auc_score(y_test, predictions_proba[:,1])\n",
    "print(\"AUC score:\",auc_score7)\n",
    "print('Testing Accuracy: %.2f \\n' % (accuracy_score(y_test, predictions)*100))\n",
    "print('Confusion matrix:')\n",
    "print(confusion_matrix(y_test, predictions))\n",
    "print('\\nClassification Report:\\n')\n",
    "print(classification_report(y_test, predictions))"
   ]
  },
  {
   "cell_type": "markdown",
   "metadata": {},
   "source": [
    "**Random Forest Classifier**"
   ]
  },
  {
   "cell_type": "code",
   "execution_count": null,
   "metadata": {},
   "outputs": [
    {
     "name": "stdout",
     "output_type": "stream",
     "text": [
      "AUC score: 0.9290392362873118\n",
      "Testing Accuracy: 93.24 \n",
      "\n",
      "Confusion matrix:\n",
      "[[9017  259]\n",
      " [ 417  307]]\n",
      "\n",
      "Classification Report:\n",
      "\n",
      "              precision    recall  f1-score   support\n",
      "\n",
      "           0       0.96      0.97      0.96      9276\n",
      "           1       0.54      0.42      0.48       724\n",
      "\n",
      "    accuracy                           0.93     10000\n",
      "   macro avg       0.75      0.70      0.72     10000\n",
      "weighted avg       0.93      0.93      0.93     10000\n",
      "\n"
     ]
    }
   ],
   "source": [
    "rfcModel = RandomForestClassifier(n_jobs=-1, n_estimators=100,random_state=42, class_weight=\"balanced_subsample\")\n",
    "rfcModel.fit(X_train, y_train)\n",
    "predictions = rfcModel.predict(X_test)\n",
    "predictions_proba = rfcModel.predict_proba(X_test)\n",
    "# roc curve for models\n",
    "fpr8, tpr8, thresh8 = roc_curve(y_test, predictions_proba[:,1], pos_label=1)\n",
    "\n",
    "# Evaluate predictions\n",
    "auc_score8 = roc_auc_score(y_test, predictions_proba[:,1])\n",
    "print(\"AUC score:\",auc_score8)\n",
    "print('Testing Accuracy: %.2f \\n' % (accuracy_score(y_test, predictions)*100))\n",
    "print('Confusion matrix:')\n",
    "print(confusion_matrix(y_test, predictions))\n",
    "print('\\nClassification Report:\\n')\n",
    "print(classification_report(y_test, predictions))\n",
    "\n",
    "#get feature importances from the model\n",
    "headers = [\"name\", \"score\"]\n",
    "values = sorted(zip(X_train.columns, rfcModel.feature_importances_), key=lambda x: x[1] * -1)\n",
    "xgb_feature_importances = pd.DataFrame(values, columns = headers)\n",
    "\n",
    "\n",
    "\n",
    "plt.show()"
   ]
  },
  {
   "cell_type": "code",
   "execution_count": null,
   "metadata": {},
   "outputs": [
    {
     "data": {
      "text/plain": [
       "Text(0.5, 1.0, 'Feature importances')"
      ]
     },
     "execution_count": 94,
     "metadata": {},
     "output_type": "execute_result"
    },
    {
     "data": {
      "image/png": "[encoded data removed]",
      "text/plain": [
       "<Figure size 432x288 with 1 Axes>"
      ]
     },
     "metadata": {
      "needs_background": "light"
     },
     "output_type": "display_data"
    }
   ],
   "source": [
    "#plot feature importances\n",
    "x_pos = np.arange(0, len(xgb_feature_importances))\n",
    "plt.bar(x_pos, xgb_feature_importances['score'])\n",
    "plt.xticks(x_pos, xgb_feature_importances['name'])\n",
    "plt.xticks(rotation=60)\n",
    "plt.title('Feature importances')"
   ]
  },
  {
   "cell_type": "markdown",
   "metadata": {},
   "source": [
    "Conclusion:\n",
    "* SVM is performing extremelly good, with good precision, recall and F1 score. Hope the model is not overfitting\n",
    "* The data is highly unbalanced, i observe that if we apply oversampling technique on the initial data before splitting, we will run to overfitting.\n",
    "* In fact, the right way is to apply oversampling on training data. \n",
    "* We use also features importance teechnique and realize that duration is highly used, month, balance, day and age are also slighly important.\n",
    "*During the next survey, i will suggest to focus more on features bellow duration, month, balance, day and age."
   ]
  },
  {
   "cell_type": "code",
   "execution_count": null,
   "metadata": {},
   "outputs": [
    {
     "data": {
      "image/png": "[encoded data removed]",
      "text/plain": [
       "<Figure size 960x960 with 1 Axes>"
      ]
     },
     "metadata": {
      "needs_background": "light"
     },
     "output_type": "display_data"
    }
   ],
   "source": [
    "# roc curve for tpr = fpr \n",
    "random_probs = [0 for i in range(len(y_test))]\n",
    "p_fpr, p_tpr, _ = roc_curve(y_test, random_probs, pos_label=1)\n",
    "from matplotlib.pyplot import figure\n",
    "\n",
    "figure(figsize=(12, 12), dpi=80)\n",
    "\n",
    "# plot roc curves\n",
    "plt.plot(fpr1, tpr1, linestyle='--',color='orange', label='Logistic Regression')\n",
    "plt.plot(fpr2, tpr2, linestyle='--',color='green', label='Linear Discriminant Analysis')\n",
    "plt.plot(fpr3, tpr3, linestyle='--',color='yellow', label='K Nearest Neighbor')\n",
    "plt.plot(fpr4, tpr4, linestyle='--',color='indigo', label='Decision Tree Classifier')\n",
    "plt.plot(fpr5, tpr5, linestyle='--',color='black', label='Gaussian Naive Bayes')\n",
    "plt.plot(fpr6, tpr6, linestyle='--',color='grey', label='Super Vector Machine')\n",
    "plt.plot(fpr7, tpr7, linestyle='--',color='red', label='XGBoost Classifier')\n",
    "plt.plot(fpr8, tpr8, linestyle='--',color='brown', label='Random Forest Classifier')\n",
    "plt.plot(p_fpr, p_tpr, linestyle='--', color='blue')\n",
    "# title\n",
    "plt.title('ROC curve')\n",
    "# x label\n",
    "plt.xlabel('False Positive Rate')\n",
    "# y label\n",
    "plt.ylabel('True Positive rate')\n",
    "\n",
    "plt.legend(loc='best')\n",
    "plt.savefig('ROC',dpi=300)\n",
    "plt.show();"
   ]
  },
  {
   "cell_type": "code",
   "execution_count": null,
   "metadata": {},
   "outputs": [],
   "source": []
  }
 ],
 "metadata": {
  "interpreter": {
   "hash": "5b3ded1ccb95c1d9bd405e7b823d9e85424cde40fbb5985eb47e999ef50e15b4"
  },
  "kernelspec": {
   "display_name": "",
   "language": "python",
   "name": "python3"
  },
  "language_info": {
   "codemirror_mode": {
    "name": "ipython",
    "version": 3
   },
   "file_extension": ".py",
   "mimetype": "text/x-python",
   "name": "python",
   "nbconvert_exporter": "python",
   "pygments_lexer": "ipython3",
   "version": "3.8.10"
  },
  "orig_nbformat": 4
 },
 "nbformat": 4,
 "nbformat_minor": 2
}
